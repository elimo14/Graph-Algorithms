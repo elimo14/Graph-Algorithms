{
  "nbformat": 4,
  "nbformat_minor": 0,
  "metadata": {
    "colab": {
      "provenance": []
    },
    "kernelspec": {
      "name": "python3",
      "display_name": "Python 3"
    },
    "language_info": {
      "name": "python"
    }
  },
  "cells": [
    {
      "cell_type": "markdown",
      "source": [
        "## Swapping Left and Right subtrees\n",
        " Swapping subtrees of a node means that if initially node has left subtree L and right subtree R , then after swapping, the left subtree will be R and the right subtree, L"
      ],
      "metadata": {
        "id": "KjtHhAzSm4sU"
      }
    },
    {
      "cell_type": "markdown",
      "source": [
        " Original Tree:\n",
        "\n",
        "      1\n",
        "     / \\\n",
        "    2   3\n",
        "    / \\\n",
        "    4   5\n",
        "\n",
        "\n",
        "After Swapping:\n",
        "\n",
        "      1\n",
        "     / \\\n",
        "    3   2\n",
        "       / \\\n",
        "      5   4"
      ],
      "metadata": {
        "id": "0iW_Rg2UnzkK"
      }
    },
    {
      "cell_type": "code",
      "source": [
        "class TreeNode:\n",
        "    def __init__(self, val):\n",
        "        self.val = val\n",
        "        self.left = None\n",
        "        self.right = None\n"
      ],
      "metadata": {
        "id": "fMK6NfLlm4BZ"
      },
      "execution_count": 1,
      "outputs": []
    },
    {
      "cell_type": "code",
      "source": [
        "def swap_subtrees(root):\n",
        "    if root is None:\n",
        "        return\n",
        "    # Swap left and right children\n",
        "    root.left, root.right = root.right, root.left\n",
        "    # Recursively swap subtrees\n",
        "    swap_subtrees(root.left)\n",
        "    swap_subtrees(root.right)\n"
      ],
      "metadata": {
        "id": "_G49c-MonH6R"
      },
      "execution_count": 2,
      "outputs": []
    },
    {
      "cell_type": "code",
      "source": [
        "# Helper function to print tree (inorder traversal)\n",
        "def print_inorder(root):\n",
        "    if root is None:\n",
        "        return\n",
        "    print_inorder(root.left)\n",
        "    print(root.val, end=' ')\n",
        "    print_inorder(root.right)\n"
      ],
      "metadata": {
        "id": "VT0SnCw6nKk4"
      },
      "execution_count": 3,
      "outputs": []
    },
    {
      "cell_type": "code",
      "source": [
        "# Input tree\n",
        "def build_tree_interactive():\n",
        "    val = input(\"Enter root value (or 'None' to skip): \")\n",
        "    if val.lower() == 'none':\n",
        "        return None\n",
        "    root = TreeNode(int(val))\n",
        "\n",
        "    queue = [root]\n",
        "    while queue:\n",
        "        current = queue.pop(0)\n",
        "\n",
        "        left_val = input(f\"Enter left child of {current.val} (or 'None'): \")\n",
        "        if left_val.lower() != 'none':\n",
        "            current.left = TreeNode(int(left_val))\n",
        "            queue.append(current.left)\n",
        "\n",
        "        right_val = input(f\"Enter right child of {current.val} (or 'None'): \")\n",
        "        if right_val.lower() != 'none':\n",
        "            current.right = TreeNode(int(right_val))\n",
        "            queue.append(current.right)\n",
        "\n",
        "    return root\n",
        "\n",
        "root = build_tree_interactive()\n"
      ],
      "metadata": {
        "colab": {
          "base_uri": "https://localhost:8080/"
        },
        "id": "sEY_jJTvnMYo",
        "outputId": "95e444b4-c925-44c1-fb4a-bf41cd7a8180"
      },
      "execution_count": 5,
      "outputs": [
        {
          "name": "stdout",
          "output_type": "stream",
          "text": [
            "Enter root value (or 'None' to skip): 1\n",
            "Enter left child of 1 (or 'None'): 2\n",
            "Enter right child of 1 (or 'None'): 3\n",
            "Enter left child of 2 (or 'None'): 4\n",
            "Enter right child of 2 (or 'None'): 5\n",
            "Enter left child of 3 (or 'None'): none\n",
            "Enter right child of 3 (or 'None'): none\n",
            "Enter left child of 4 (or 'None'): none\n",
            "Enter right child of 4 (or 'None'): none\n",
            "Enter left child of 5 (or 'None'): none\n",
            "Enter right child of 5 (or 'None'): none\n"
          ]
        }
      ]
    },
    {
      "cell_type": "code",
      "execution_count": 6,
      "metadata": {
        "colab": {
          "base_uri": "https://localhost:8080/"
        },
        "id": "NPRimjYqmiiD",
        "outputId": "d630d11e-2ad1-4cbf-ae2b-dbc0140efa5f"
      },
      "outputs": [
        {
          "output_type": "stream",
          "name": "stdout",
          "text": [
            "Original tree (Inorder):\n",
            "4 2 5 1 3 \n",
            "After swapping subtrees (Inorder):\n",
            "3 1 5 2 4 "
          ]
        }
      ],
      "source": [
        "print(\"Original tree (Inorder):\")\n",
        "print_inorder(root)\n",
        "\n",
        "# Swap subtrees\n",
        "swap_subtrees(root)\n",
        "\n",
        "print(\"\\nAfter swapping subtrees (Inorder):\")\n",
        "print_inorder(root)"
      ]
    }
  ]
}