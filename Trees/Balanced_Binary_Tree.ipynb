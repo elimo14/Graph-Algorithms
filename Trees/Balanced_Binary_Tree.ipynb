{
  "nbformat": 4,
  "nbformat_minor": 0,
  "metadata": {
    "colab": {
      "provenance": []
    },
    "kernelspec": {
      "name": "python3",
      "display_name": "Python 3"
    },
    "language_info": {
      "name": "python"
    }
  },
  "cells": [
    {
      "cell_type": "markdown",
      "source": [
        "##Balanced Binary Tree\n",
        "A balanced binary tree, also referred to as a height-balanced binary tree, is defined as a binary tree in which the height of the left and right subtree of any node differ by not more than 1."
      ],
      "metadata": {
        "id": "-5gxQ6545B3a"
      }
    },
    {
      "cell_type": "code",
      "source": [
        "# Checking if a binary tree is height balanced in Python\n",
        "\n",
        "class TreeNode:\n",
        "    def __init__(self, val):\n",
        "        self.val = val\n",
        "        self.left = None\n",
        "        self.right = None\n",
        "\n",
        "class Height:\n",
        "    def __init__(self):\n",
        "        self.height = 0\n",
        "\n",
        "\n",
        "def isHeightBalanced(root, height):\n",
        "\n",
        "    left_height = Height()\n",
        "    right_height = Height()\n",
        "\n",
        "    if root is None:\n",
        "        return True\n",
        "\n",
        "    l = isHeightBalanced(root.left, left_height)\n",
        "    r = isHeightBalanced(root.right, right_height)\n",
        "\n",
        "    height.height = max(left_height.height, right_height.height) + 1\n",
        "\n",
        "    if abs(left_height.height - right_height.height) <= 1:\n",
        "        return l and r\n",
        "\n",
        "    return False\n",
        "\n",
        "\n",
        "height = Height()\n"
      ],
      "metadata": {
        "id": "wfOUoyXuOhzs"
      },
      "execution_count": 14,
      "outputs": []
    },
    {
      "cell_type": "code",
      "source": [
        "# input tree\n",
        "def build_tree_interactive():\n",
        "    val = input(\"Enter root value (or 'None' to skip): \")\n",
        "    if val.lower() == 'none':\n",
        "        return None\n",
        "    root = TreeNode(int(val))\n",
        "\n",
        "    queue = [root]\n",
        "    while queue:\n",
        "        current = queue.pop(0)\n",
        "\n",
        "        left_val = input(f\"Enter left child of {current.val} (or 'None'): \")\n",
        "        if left_val.lower() != 'none':\n",
        "            current.left = TreeNode(int(left_val))\n",
        "            queue.append(current.left)\n",
        "\n",
        "        right_val = input(f\"Enter right child of {current.val} (or 'None'): \")\n",
        "        if right_val.lower() != 'none':\n",
        "            current.right = TreeNode(int(right_val))\n",
        "            queue.append(current.right)\n",
        "\n",
        "    return root\n",
        "\n",
        "root = build_tree_interactive()"
      ],
      "metadata": {
        "colab": {
          "base_uri": "https://localhost:8080/"
        },
        "id": "0ME2QSkkMLWt",
        "outputId": "01dfb000-be6a-4021-fd99-63ccb845ba03"
      },
      "execution_count": 16,
      "outputs": [
        {
          "name": "stdout",
          "output_type": "stream",
          "text": [
            "Enter root value (or 'None' to skip): 51\n",
            "Enter left child of 51 (or 'None'): 41\n",
            "Enter right child of 51 (or 'None'): 61\n",
            "Enter left child of 41 (or 'None'): 31\n",
            "Enter right child of 41 (or 'None'): none\n",
            "Enter left child of 61 (or 'None'): 25\n",
            "Enter right child of 61 (or 'None'): 71\n",
            "Enter left child of 31 (or 'None'): none\n",
            "Enter right child of 31 (or 'None'): 36\n",
            "Enter left child of 25 (or 'None'): none\n",
            "Enter right child of 25 (or 'None'): none\n",
            "Enter left child of 71 (or 'None'): 70\n",
            "Enter right child of 71 (or 'None'): 81\n",
            "Enter left child of 36 (or 'None'): none\n",
            "Enter right child of 36 (or 'None'): none\n",
            "Enter left child of 70 (or 'None'): none\n",
            "Enter right child of 70 (or 'None'): none\n",
            "Enter left child of 81 (or 'None'): none\n",
            "Enter right child of 81 (or 'None'): none\n"
          ]
        }
      ]
    },
    {
      "cell_type": "code",
      "source": [
        "# out put\n",
        "\n",
        "if isHeightBalanced(root, height):\n",
        "    print('The tree is balanced')\n",
        "else:\n",
        "    print('The tree is not balanced')\n"
      ],
      "metadata": {
        "colab": {
          "base_uri": "https://localhost:8080/"
        },
        "id": "MVRBMh1DOpmO",
        "outputId": "ee59d4a0-6e3f-44cf-b76d-e9d1bf76c3e7"
      },
      "execution_count": 17,
      "outputs": [
        {
          "output_type": "stream",
          "name": "stdout",
          "text": [
            "The tree is not balanced\n"
          ]
        }
      ]
    }
  ]
}