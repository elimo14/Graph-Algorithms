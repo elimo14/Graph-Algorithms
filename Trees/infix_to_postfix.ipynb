{
  "nbformat": 4,
  "nbformat_minor": 0,
  "metadata": {
    "colab": {
      "provenance": []
    },
    "kernelspec": {
      "name": "python3",
      "display_name": "Python 3"
    },
    "language_info": {
      "name": "python"
    }
  },
  "cells": [
    {
      "cell_type": "markdown",
      "source": [
        "##infix to postfix conversion"
      ],
      "metadata": {
        "id": "8uKYbuoe2ECD"
      }
    },
    {
      "cell_type": "code",
      "execution_count": 2,
      "metadata": {
        "id": "-HrCvrPe2Cso"
      },
      "outputs": [],
      "source": [
        "def infix_to_postfix(infix_expr):\n",
        "    precedence = {'+': 1, '-': 1, '*': 2, '/': 2, '^': 3}\n",
        "    stack = []\n",
        "    postfix = []\n",
        "\n",
        "    for char in infix_expr:\n",
        "        if char == ' ':  # Skip spaces\n",
        "            continue\n",
        "        elif char.isalnum():  # Operand (A, B, 1, 2, etc.)\n",
        "            postfix.append(char)\n",
        "        elif char == '(':\n",
        "            stack.append(char)\n",
        "        elif char == ')':\n",
        "            while stack and stack[-1] != '(':\n",
        "                postfix.append(stack.pop())\n",
        "            stack.pop()  # Remove '(' from stack\n",
        "        else:  # Operator (+, -, *, /, ^)\n",
        "            while stack and stack[-1] != '(' and precedence[char] <= precedence.get(stack[-1], 0):\n",
        "                postfix.append(stack.pop())\n",
        "            stack.append(char)\n",
        "\n",
        "    while stack:  # Pop remaining operators\n",
        "        postfix.append(stack.pop())\n",
        "\n",
        "    return ' '.join(postfix)\n"
      ]
    },
    {
      "cell_type": "code",
      "source": [
        "# Example Usage\n",
        "infix_expression = \"A + B * C - ( D / E + F )\"\n",
        "postfix_expression = infix_to_postfix(infix_expression)\n",
        "print(\"Infix:\", infix_expression)\n",
        "print(\"Postfix:\", postfix_expression)\n",
        "\n",
        "print('\\n')\n",
        "infix_expression = \"( A + B ) * C\"\n",
        "postfix_expression = infix_to_postfix(infix_expression)\n",
        "print(\"Infix:\", infix_expression)\n",
        "print(\"Postfix:\", postfix_expression)\n",
        "\n",
        "print('\\n')\n",
        "infix_expression = \"A + B * C\"\n",
        "postfix_expression = infix_to_postfix(infix_expression)\n",
        "print(\"Infix:\", infix_expression)\n",
        "print(\"Postfix:\", postfix_expression)\n",
        "\n",
        "print('\\n')\n",
        "infix_expression = \"( p + q ) * ( m - n )\"\n",
        "postfix_expression = infix_to_postfix(infix_expression)\n",
        "print(\"Infix:\", infix_expression)\n",
        "print(\"Postfix:\", postfix_expression)"
      ],
      "metadata": {
        "colab": {
          "base_uri": "https://localhost:8080/"
        },
        "id": "dA7vDXR42Prj",
        "outputId": "bab9c13f-857c-4706-d9eb-9d77fc52c5dc"
      },
      "execution_count": 4,
      "outputs": [
        {
          "output_type": "stream",
          "name": "stdout",
          "text": [
            "Infix: A + B * C - ( D / E + F )\n",
            "Postfix: A B C * + D E / F + -\n",
            "\n",
            "\n",
            "Infix: ( A + B ) * C\n",
            "Postfix: A B + C *\n",
            "\n",
            "\n",
            "Infix: A + B * C\n",
            "Postfix: A B C * +\n",
            "\n",
            "\n",
            "Infix: ( p + q ) * ( m - n )\n",
            "Postfix: p q + m n - *\n"
          ]
        }
      ]
    }
  ]
}