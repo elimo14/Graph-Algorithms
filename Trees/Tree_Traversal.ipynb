{
  "nbformat": 4,
  "nbformat_minor": 0,
  "metadata": {
    "colab": {
      "provenance": []
    },
    "kernelspec": {
      "name": "python3",
      "display_name": "Python 3"
    },
    "language_info": {
      "name": "python"
    }
  },
  "cells": [
    {
      "cell_type": "markdown",
      "source": [
        "## Tree Traversal\n",
        "3 main methods for Tree Traversal are:\n",
        "\n",
        "\n",
        "1.   In order Traversal (left, root, right)\n",
        "1.   Preorder Traversal (root, left, right)\n",
        "2.   Postorder Traversal (left, right, root)\n",
        "    "
      ],
      "metadata": {
        "id": "AbYo5sprO1jx"
      }
    },
    {
      "cell_type": "code",
      "source": [
        "# defining a node\n",
        "class TreeNode:\n",
        "    def __init__(self, val):\n",
        "        self.val = val\n",
        "        self.left = None\n",
        "        self.right = None\n"
      ],
      "metadata": {
        "id": "oE-u8oZPO3Rl"
      },
      "execution_count": 2,
      "outputs": []
    },
    {
      "cell_type": "code",
      "source": [
        "# inorder Traversal\n",
        "def inorderTraversal(root):\n",
        "    answer = []\n",
        "    inorderTraversalUtil(root, answer)\n",
        "    return answer\n",
        "\n",
        "def inorderTraversalUtil(root, answer):\n",
        "    if root is None:\n",
        "        return\n",
        "    inorderTraversalUtil(root.left, answer)\n",
        "    answer.append(root.val)\n",
        "    inorderTraversalUtil(root.right, answer)\n",
        "    return\n",
        "\n"
      ],
      "metadata": {
        "id": "oJwM7YkSO5E3"
      },
      "execution_count": 3,
      "outputs": []
    },
    {
      "cell_type": "code",
      "source": [
        "# preorder Traversal\n",
        "def preorderTraversal(root):\n",
        "    answer = []\n",
        "    preorderTraversalUtil(root, answer)\n",
        "    return answer\n",
        "\n",
        "def preorderTraversalUtil(root, answer):\n",
        "    if root is None:\n",
        "        return\n",
        "    answer.append(root.val)\n",
        "    preorderTraversalUtil(root.left, answer)\n",
        "    preorderTraversalUtil(root.right, answer)\n",
        "    return\n"
      ],
      "metadata": {
        "id": "ycp_H591O7rk"
      },
      "execution_count": 4,
      "outputs": []
    },
    {
      "cell_type": "code",
      "source": [
        "# postorder Traversal\n",
        "def postorderTraversal(root):\n",
        "    answer = []\n",
        "    postorderTraversalUtil(root, answer)\n",
        "    return answer\n",
        "\n",
        "def postorderTraversalUtil(root, answer):\n",
        "    if root is None:\n",
        "        return\n",
        "    postorderTraversalUtil(root.left, answer)\n",
        "    postorderTraversalUtil(root.right, answer)\n",
        "    answer.append(root.val)\n",
        "    return\n"
      ],
      "metadata": {
        "id": "aSQxTpu-O-pf"
      },
      "execution_count": 5,
      "outputs": []
    },
    {
      "cell_type": "code",
      "source": [
        "def build_tree_interactive():\n",
        "    val = input(\"Enter root value (or 'None' to skip): \")\n",
        "    if val.lower() == 'none':\n",
        "        return None\n",
        "    root = TreeNode((val))\n",
        "\n",
        "    queue = [root]\n",
        "    while queue:\n",
        "        current = queue.pop(0)\n",
        "\n",
        "        left_val = input(f\"Enter left child of {current.val} (or 'None'): \")\n",
        "        if left_val.lower() != 'none':\n",
        "            current.left = TreeNode((left_val))\n",
        "            queue.append(current.left)\n",
        "\n",
        "        right_val = input(f\"Enter right child of {current.val} (or 'None'): \")\n",
        "        if right_val.lower() != 'none':\n",
        "            current.right = TreeNode((right_val))\n",
        "            queue.append(current.right)\n",
        "\n",
        "    return root\n",
        "\n",
        "root = build_tree_interactive()\n"
      ],
      "metadata": {
        "colab": {
          "base_uri": "https://localhost:8080/"
        },
        "id": "_kgiveKpPA-M",
        "outputId": "ef6bb2b1-fd80-445d-f88b-2749287a50cc"
      },
      "execution_count": 10,
      "outputs": [
        {
          "name": "stdout",
          "output_type": "stream",
          "text": [
            "Enter root value (or 'None' to skip): A\n",
            "Enter left child of A (or 'None'): B\n",
            "Enter right child of A (or 'None'): C\n",
            "Enter left child of B (or 'None'): D\n",
            "Enter right child of B (or 'None'): E\n",
            "Enter left child of C (or 'None'): F\n",
            "Enter right child of C (or 'None'): G\n",
            "Enter left child of D (or 'None'): H\n",
            "Enter right child of D (or 'None'): I\n",
            "Enter left child of E (or 'None'): None\n",
            "Enter right child of E (or 'None'): None\n",
            "Enter left child of F (or 'None'): None\n",
            "Enter right child of F (or 'None'): J\n",
            "Enter left child of G (or 'None'): None\n",
            "Enter right child of G (or 'None'): None\n",
            "Enter left child of H (or 'None'): None\n",
            "Enter right child of H (or 'None'): None\n",
            "Enter left child of I (or 'None'): None\n",
            "Enter right child of I (or 'None'): None\n",
            "Enter left child of J (or 'None'): None\n",
            "Enter right child of J (or 'None'): None\n"
          ]
        }
      ]
    },
    {
      "cell_type": "code",
      "execution_count": 11,
      "metadata": {
        "colab": {
          "base_uri": "https://localhost:8080/"
        },
        "id": "2ryEi9-GOzaF",
        "outputId": "02f3836b-e151-4f0c-d716-bc8d1f0422c9"
      },
      "outputs": [
        {
          "output_type": "stream",
          "name": "stdout",
          "text": [
            "Inorder:   ['H', 'D', 'I', 'B', 'E', 'A', 'F', 'J', 'C', 'G']\n",
            "Preorder:  ['A', 'B', 'D', 'H', 'I', 'E', 'C', 'F', 'J', 'G']\n",
            "Postorder: ['H', 'I', 'D', 'E', 'B', 'J', 'F', 'G', 'C', 'A']\n"
          ]
        }
      ],
      "source": [
        "# Output\n",
        "print('Inorder:  ', inorderTraversal(root))\n",
        "print('Preorder: ', preorderTraversal(root))\n",
        "print('Postorder:', postorderTraversal(root))"
      ]
    }
  ]
}